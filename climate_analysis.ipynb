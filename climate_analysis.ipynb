{
 "cells": [
  {
   "cell_type": "code",
   "execution_count": 1,
   "metadata": {},
   "outputs": [],
   "source": [
    "%matplotlib inline\n",
    "from matplotlib import style\n",
    "style.use('fivethirtyeight')\n",
    "import matplotlib.pyplot as plt"
   ]
  },
  {
   "cell_type": "code",
   "execution_count": 2,
   "metadata": {},
   "outputs": [],
   "source": [
    "import numpy as np\n",
    "import pandas as pd"
   ]
  },
  {
   "cell_type": "code",
   "execution_count": 3,
   "metadata": {},
   "outputs": [],
   "source": [
    "import datetime as dt"
   ]
  },
  {
   "cell_type": "markdown",
   "metadata": {},
   "source": [
    "# Reflect Tables into SQLAlchemy ORM"
   ]
  },
  {
   "cell_type": "code",
   "execution_count": 4,
   "metadata": {},
   "outputs": [],
   "source": [
    "# Python SQL toolkit and Object Relational Mapper\n",
    "import sqlalchemy\n",
    "from sqlalchemy.ext.automap import automap_base\n",
    "from sqlalchemy.orm import Session\n",
    "from sqlalchemy import create_engine, func"
   ]
  },
  {
   "cell_type": "code",
   "execution_count": 5,
   "metadata": {},
   "outputs": [],
   "source": [
    "engine = create_engine(\"sqlite:///hawaii.sqlite\")"
   ]
  },
  {
   "cell_type": "code",
   "execution_count": 6,
   "metadata": {},
   "outputs": [],
   "source": [
    "# reflect an existing database into a new model\n",
    "Base = automap_base()\n",
    "# reflect the tables\n",
    "Base.prepare(engine, reflect=True)"
   ]
  },
  {
   "cell_type": "code",
   "execution_count": 7,
   "metadata": {},
   "outputs": [
    {
     "data": {
      "text/plain": [
       "['measurement', 'station']"
      ]
     },
     "execution_count": 7,
     "metadata": {},
     "output_type": "execute_result"
    }
   ],
   "source": [
    "# We can view all of the classes that automap found\n",
    "Base.classes.keys()"
   ]
  },
  {
   "cell_type": "code",
   "execution_count": 8,
   "metadata": {},
   "outputs": [],
   "source": [
    "# Save references to each table\n",
    "Measurement = Base.classes.measurement\n",
    "Station = Base.classes.station"
   ]
  },
  {
   "cell_type": "code",
   "execution_count": 9,
   "metadata": {},
   "outputs": [],
   "source": [
    "# Create our session (link) from Python to the DB\n",
    "session = Session(engine)"
   ]
  },
  {
   "cell_type": "markdown",
   "metadata": {},
   "source": [
    "# Exploratory Climate Analysis"
   ]
  },
  {
   "cell_type": "code",
   "execution_count": 10,
   "metadata": {},
   "outputs": [
    {
     "name": "stdout",
     "output_type": "stream",
     "text": [
      "      date  prcp\n",
      "2016-08-23  0.00\n",
      "2016-08-24  0.08\n",
      "2016-08-25  0.08\n",
      "2016-08-26  0.00\n",
      "2016-08-27  0.00\n",
      "2016-08-28  0.01\n",
      "2016-08-29  0.00\n",
      "2016-08-30  0.00\n",
      "2016-08-31  0.13\n",
      "2016-09-01  0.00\n",
      "2016-09-02  0.00\n",
      "2016-09-03  0.00\n",
      "2016-09-04  0.03\n",
      "2016-09-05   NaN\n",
      "2016-09-06   NaN\n",
      "2016-09-07  0.05\n",
      "2016-09-08  0.00\n",
      "2016-09-09  0.03\n",
      "2016-09-10  0.00\n",
      "2016-09-11  0.05\n",
      "2016-09-12  0.00\n",
      "2016-09-13  0.02\n",
      "2016-09-14  1.32\n",
      "2016-09-15  0.42\n",
      "2016-09-16  0.06\n",
      "2016-09-17  0.05\n",
      "2016-09-18  0.00\n",
      "2016-09-19  0.00\n",
      "2016-09-20  0.00\n",
      "2016-09-21  0.00\n",
      "2016-09-22  0.02\n",
      "2016-09-23  0.00\n",
      "2016-09-24  0.00\n",
      "2016-09-25  0.00\n",
      "2016-09-26  0.06\n",
      "2016-09-27  0.02\n",
      "2016-09-28  0.00\n",
      "2016-09-29  0.00\n",
      "2016-09-30  0.00\n",
      "2016-10-01  0.00\n",
      "2016-10-02  0.00\n",
      "2016-10-03  0.00\n",
      "2016-10-04  0.00\n",
      "2016-10-05  0.00\n",
      "2016-10-06  0.00\n",
      "2016-10-07  0.00\n",
      "2016-10-08  0.00\n",
      "2016-10-09  0.00\n",
      "2016-10-10  0.00\n",
      "2016-10-11  0.00\n",
      "2016-10-12  0.00\n",
      "2016-10-13  0.00\n",
      "2016-10-14  0.00\n",
      "2016-10-15  0.00\n",
      "2016-10-16  0.00\n",
      "2016-10-17  0.01\n",
      "2016-10-18  0.00\n",
      "2016-10-19  0.00\n",
      "2016-10-20  0.00\n",
      "2016-10-21  0.05\n",
      "2016-10-22  0.15\n",
      "2016-10-23  0.01\n",
      "2016-10-24  0.00\n",
      "2016-10-25  0.03\n",
      "2016-10-26  0.00\n",
      "2016-10-27  0.00\n",
      "2016-10-28  0.00\n",
      "2016-10-29  0.00\n",
      "2016-10-30  0.24\n",
      "2016-10-31  0.03\n",
      "2016-11-01  0.00\n",
      "2016-11-02  0.00\n",
      "2016-11-03  0.00\n",
      "2016-11-04  0.00\n",
      "2016-11-05  0.00\n",
      "2016-11-06  0.00\n",
      "2016-11-07  0.00\n",
      "2016-11-08  0.07\n",
      "2016-11-09  0.00\n",
      "2016-11-10  0.00\n",
      "2016-11-11  0.00\n",
      "2016-11-12  0.00\n",
      "2016-11-13  0.00\n",
      "2016-11-14  0.00\n",
      "2016-11-15  0.00\n",
      "2016-11-16  0.00\n",
      "2016-11-17  0.00\n",
      "2016-11-18  0.00\n",
      "2016-11-19  0.03\n",
      "2016-11-20  0.05\n",
      "2016-11-21  0.01\n",
      "2016-11-22  0.13\n",
      "2016-11-23  0.14\n",
      "2016-11-24  0.05\n",
      "2016-11-25  0.05\n",
      "2016-11-26  0.05\n",
      "2016-11-27  0.00\n",
      "2016-11-28  0.01\n",
      "2016-11-29  0.00\n",
      "2016-11-30  0.14\n",
      "2016-12-01  0.12\n",
      "2016-12-02  0.03\n",
      "2016-12-03  0.00\n",
      "2016-12-04  0.03\n",
      "2016-12-05  0.43\n",
      "2016-12-06  0.02\n",
      "2016-12-07  0.00\n",
      "2016-12-08  0.03\n",
      "2016-12-09  0.52\n",
      "2016-12-10  0.05\n",
      "2016-12-11  0.04\n",
      "2016-12-12  0.01\n",
      "2016-12-13  0.05\n",
      "2016-12-14  0.03\n",
      "2016-12-15  0.00\n",
      "2016-12-16  0.00\n",
      "2016-12-17  0.01\n",
      "2016-12-18  0.13\n",
      "2016-12-19  0.01\n",
      "2016-12-20  0.00\n",
      "2016-12-21  0.00\n",
      "2016-12-22  0.01\n",
      "2016-12-23  0.01\n",
      "2016-12-24  0.01\n",
      "2016-12-25  0.00\n",
      "2016-12-26  0.02\n",
      "2016-12-27  0.00\n",
      "2016-12-28  0.02\n",
      "2016-12-29  0.04\n",
      "2016-12-30  0.12\n",
      "2016-12-31  0.01\n",
      "2017-01-01  0.00\n",
      "2017-01-02  0.00\n",
      "2017-01-03  0.00\n",
      "2017-01-04  0.00\n",
      "2017-01-05  0.00\n",
      "2017-01-06  0.00\n",
      "2017-01-07  0.00\n",
      "2017-01-08  0.00\n",
      "2017-01-09  0.00\n",
      "2017-01-10  0.00\n",
      "2017-01-11  0.00\n",
      "2017-01-12  0.00\n",
      "2017-01-13  0.00\n",
      "2017-01-14  0.00\n",
      "2017-01-15  0.00\n",
      "2017-01-16  0.00\n",
      "2017-01-17  0.00\n",
      "2017-01-18  0.00\n",
      "2017-01-19  0.00\n",
      "2017-01-20  0.00\n",
      "2017-01-21  0.00\n",
      "2017-01-22  0.16\n",
      "2017-01-23  0.00\n",
      "2017-01-24  0.04\n",
      "2017-01-25  0.03\n",
      "2017-01-26  0.00\n",
      "2017-01-27  0.00\n",
      "2017-01-28  0.00\n",
      "2017-01-29  0.18\n",
      "2017-01-30  0.00\n",
      "2017-01-31  0.00\n",
      "2017-02-01  0.00\n",
      "2017-02-02  0.00\n",
      "2017-02-03  0.00\n",
      "2017-02-04  0.00\n",
      "2017-02-05  0.00\n",
      "2017-02-06  0.00\n",
      "2017-02-07  0.51\n",
      "2017-02-08  0.00\n",
      "2017-02-09  0.00\n",
      "2017-02-10  0.00\n",
      "2017-02-11  0.31\n",
      "2017-02-12  2.62\n",
      "2017-02-13  0.01\n",
      "2017-02-14  0.00\n",
      "2017-02-15  0.00\n",
      "2017-02-16  0.07\n",
      "2017-02-17  0.00\n",
      "2017-02-18  0.00\n",
      "2017-02-19  0.00\n",
      "2017-02-20  0.00\n",
      "2017-02-21  0.06\n",
      "2017-02-22  0.06\n",
      "2017-02-23  0.01\n",
      "2017-02-24  0.00\n",
      "2017-02-25  0.03\n",
      "2017-02-26  0.00\n",
      "2017-02-27  0.00\n",
      "2017-02-28  0.00\n",
      "2017-03-01  1.19\n",
      "2017-03-02  0.73\n",
      "2017-03-03  0.47\n",
      "2017-03-04  0.00\n",
      "2017-03-05  0.35\n",
      "2017-03-06  0.00\n",
      "2017-03-07  0.00\n",
      "2017-03-08  0.00\n",
      "2017-03-09  0.00\n",
      "2017-03-10  0.00\n",
      "2017-03-11  0.00\n",
      "2017-03-12  0.00\n",
      "2017-03-13  0.00\n",
      "2017-03-14  0.00\n",
      "2017-03-15  0.00\n",
      "2017-03-16  0.00\n",
      "2017-03-17  0.00\n",
      "2017-03-18  0.00\n",
      "2017-03-19  0.00\n",
      "2017-03-20  0.00\n",
      "2017-03-21  0.00\n",
      "2017-03-22  0.00\n",
      "2017-03-23  0.00\n",
      "2017-03-24  0.02\n",
      "2017-03-25  0.00\n",
      "2017-03-26  0.00\n",
      "2017-03-27  0.00\n",
      "2017-03-28  0.00\n",
      "2017-03-29  0.00\n",
      "2017-03-30  0.00\n",
      "2017-03-31  0.00\n",
      "2017-04-01  0.00\n",
      "2017-04-02  0.00\n",
      "2017-04-03  0.00\n",
      "2017-04-04  0.00\n",
      "2017-04-05  0.00\n",
      "2017-04-06  0.00\n",
      "2017-04-07  0.00\n",
      "2017-04-08  0.00\n",
      "2017-04-09  0.00\n",
      "2017-04-10  0.00\n",
      "2017-04-11  0.00\n",
      "2017-04-12  0.00\n",
      "2017-04-13  0.00\n",
      "2017-04-14  0.26\n",
      "2017-04-15  0.01\n",
      "2017-04-16  0.00\n",
      "2017-04-17  0.02\n",
      "2017-04-18  0.00\n",
      "2017-04-19  0.02\n",
      "2017-04-20  0.05\n",
      "2017-04-21  0.23\n",
      "2017-04-22  0.32\n",
      "2017-04-23  0.03\n",
      "2017-04-24  0.00\n",
      "2017-04-25  0.00\n",
      "2017-04-26  0.00\n",
      "2017-04-27  0.00\n",
      "2017-04-28  0.00\n",
      "2017-04-29  0.12\n",
      "2017-04-30  0.89\n",
      "2017-05-01  0.26\n",
      "2017-05-02  0.00\n",
      "2017-05-03  0.00\n",
      "2017-05-04  0.00\n",
      "2017-05-05  0.00\n",
      "2017-05-06  0.00\n",
      "2017-05-07  0.00\n",
      "2017-05-08  0.00\n",
      "2017-05-09  1.62\n",
      "2017-05-10  0.00\n",
      "2017-05-11  0.01\n",
      "2017-05-12  0.00\n",
      "2017-05-13  0.00\n",
      "2017-05-14  0.00\n",
      "2017-05-15  0.05\n",
      "2017-05-16  0.01\n",
      "2017-05-17  0.00\n",
      "2017-05-18  0.01\n",
      "2017-05-19  0.00\n",
      "2017-05-20  0.00\n",
      "2017-05-21  0.00\n",
      "2017-05-22  0.00\n",
      "2017-05-23  0.08\n",
      "2017-05-24  0.13\n",
      "2017-05-25  0.15\n",
      "2017-05-26  0.02\n",
      "2017-05-27  0.01\n",
      "2017-05-28  0.02\n",
      "2017-05-29  0.00\n",
      "2017-05-30  0.26\n",
      "2017-05-31  0.02\n",
      "2017-06-01  0.00\n",
      "2017-06-02  0.00\n",
      "2017-06-03  0.02\n",
      "2017-06-04  0.00\n",
      "2017-06-05  0.00\n",
      "2017-06-06  0.00\n",
      "2017-06-07  0.00\n",
      "2017-06-08  0.00\n",
      "2017-06-09  0.00\n",
      "2017-06-10  0.04\n",
      "2017-06-11  0.08\n",
      "2017-06-12  0.02\n",
      "2017-06-13  0.00\n",
      "2017-06-14  0.00\n",
      "2017-06-15  0.00\n",
      "2017-06-16  0.00\n",
      "2017-06-17  0.00\n",
      "2017-06-18  0.05\n",
      "2017-06-19  0.00\n",
      "2017-06-20  0.02\n",
      "2017-06-21  0.00\n",
      "2017-06-22  0.00\n",
      "2017-06-23  0.00\n",
      "2017-06-24  0.06\n",
      "2017-06-25  0.00\n",
      "2017-06-26  0.00\n",
      "2017-06-27  0.00\n",
      "2017-06-28  0.00\n",
      "2017-06-29  0.00\n",
      "2017-06-30  0.08\n",
      "2017-07-01  0.02\n",
      "2017-07-02  0.02\n",
      "2017-07-03  0.04\n",
      "2017-07-04  0.04\n",
      "2017-07-05  0.00\n",
      "2017-07-06  0.00\n",
      "2017-07-07  0.00\n",
      "2017-07-08  0.00\n",
      "2017-07-09  0.00\n",
      "2017-07-10  0.00\n",
      "2017-07-11  0.00\n",
      "2017-07-12  0.00\n",
      "2017-07-13  0.07\n",
      "2017-07-14  0.02\n",
      "2017-07-15  0.00\n",
      "2017-07-16  0.02\n",
      "2017-07-17  0.03\n",
      "2017-07-18  0.05\n",
      "2017-07-19  0.00\n",
      "2017-07-20  0.03\n",
      "2017-07-21  0.00\n",
      "2017-07-22  0.03\n",
      "2017-07-23  0.00\n",
      "2017-07-24  0.05\n",
      "2017-07-25  0.00\n",
      "2017-07-26  0.00\n",
      "2017-07-27  0.00\n",
      "2017-07-28  0.00\n",
      "2017-07-29  0.00\n",
      "2017-07-30  0.00\n",
      "2017-07-31  0.00\n",
      "2017-08-01  0.02\n",
      "2017-08-02  0.00\n",
      "2017-08-03  0.00\n",
      "2017-08-04  0.02\n",
      "2017-08-05  0.00\n",
      "2017-08-06  0.00\n",
      "2017-08-07  0.00\n",
      "2017-08-08  0.00\n",
      "2017-08-09  0.00\n",
      "2017-08-10  0.00\n",
      "2017-08-11  0.00\n",
      "2017-08-12  0.00\n",
      "2017-08-13  0.00\n",
      "2017-08-14  0.00\n",
      "2017-08-15  0.02\n",
      "2017-08-16  0.00\n",
      "2017-08-17  0.00\n",
      "2017-08-18  0.00\n",
      "2017-08-19  0.00\n",
      "2017-08-20  0.00\n",
      "2017-08-21  0.00\n",
      "2017-08-22  0.00\n",
      "2017-08-23  0.00\n"
     ]
    }
   ],
   "source": [
    "# Design a query to retrieve the last 12 months of precipitation data and plot the results. \n",
    "#Starting from the last data point in the database. \n",
    "\n",
    "# Calculate the date one year from the last date in data set.\n",
    "prev_year = dt.date(2017, 8, 23) - dt.timedelta(days=365)\n",
    "\n",
    "# Perform a query to retrieve the data and precipitation scores\n",
    "results = session.query(Measurement.date, Measurement.prcp).\\\n",
    "filter(Measurement.date >= prev_year).\\\n",
    "group_by(Measurement.date).all()\n",
    "\n",
    "\n",
    "# Save the query results as a Pandas DataFrame and set the index to the date column\n",
    "df = pd.DataFrame(results, columns=['date', 'prcp'])\n",
    "df.date = pd.to_datetime(df.date)\n",
    "\n",
    "\n",
    "df.set_index(df['date'], inplace=True)\n",
    "print(df.to_string(index=False))\n",
    "\n",
    "# Sort the dataframe by date\n",
    "df = df.sort_index()\n"
   ]
  },
  {
   "cell_type": "code",
   "execution_count": 11,
   "metadata": {},
   "outputs": [
    {
     "data": {
      "image/png": "[encoded data removed]",
      "text/plain": [
       "<Figure size 864x360 with 1 Axes>"
      ]
     },
     "metadata": {},
     "output_type": "display_data"
    }
   ],
   "source": [
    "fig, ax = plt.subplots(figsize=(12, 5))\n",
    "\n",
    "plt.bar(df.index,df['prcp'],width=2.5)\n",
    "plt.xticks(rotation=90)\n",
    "plt.title('Hawaii Precipitation between 08/23/2016 to 08/23/2017')\n",
    "plt.xlabel('Date',fontsize =15)\n",
    "plt.ylabel('Inches', fontsize =15)\n",
    "plt.xticks(rotation=90)\n",
    "plt.legend(['Precipitation'],fontsize =15)\n",
    "\n",
    "plt.show()"
   ]
  },
  {
   "cell_type": "code",
   "execution_count": 12,
   "metadata": {},
   "outputs": [
    {
     "data": {
      "text/html": [
       "<div>\n",
       "<style scoped>\n",
       "    .dataframe tbody tr th:only-of-type {\n",
       "        vertical-align: middle;\n",
       "    }\n",
       "\n",
       "    .dataframe tbody tr th {\n",
       "        vertical-align: top;\n",
       "    }\n",
       "\n",
       "    .dataframe thead th {\n",
       "        text-align: right;\n",
       "    }\n",
       "</style>\n",
       "<table border=\"1\" class=\"dataframe\">\n",
       "  <thead>\n",
       "    <tr style=\"text-align: right;\">\n",
       "      <th></th>\n",
       "      <th>prcp</th>\n",
       "    </tr>\n",
       "  </thead>\n",
       "  <tbody>\n",
       "    <tr>\n",
       "      <th>count</th>\n",
       "      <td>364.000000</td>\n",
       "    </tr>\n",
       "    <tr>\n",
       "      <th>mean</th>\n",
       "      <td>0.048709</td>\n",
       "    </tr>\n",
       "    <tr>\n",
       "      <th>std</th>\n",
       "      <td>0.204930</td>\n",
       "    </tr>\n",
       "    <tr>\n",
       "      <th>min</th>\n",
       "      <td>0.000000</td>\n",
       "    </tr>\n",
       "    <tr>\n",
       "      <th>25%</th>\n",
       "      <td>0.000000</td>\n",
       "    </tr>\n",
       "    <tr>\n",
       "      <th>50%</th>\n",
       "      <td>0.000000</td>\n",
       "    </tr>\n",
       "    <tr>\n",
       "      <th>75%</th>\n",
       "      <td>0.020000</td>\n",
       "    </tr>\n",
       "    <tr>\n",
       "      <th>max</th>\n",
       "      <td>2.620000</td>\n",
       "    </tr>\n",
       "  </tbody>\n",
       "</table>\n",
       "</div>"
      ],
      "text/plain": [
       "             prcp\n",
       "count  364.000000\n",
       "mean     0.048709\n",
       "std      0.204930\n",
       "min      0.000000\n",
       "25%      0.000000\n",
       "50%      0.000000\n",
       "75%      0.020000\n",
       "max      2.620000"
      ]
     },
     "execution_count": 12,
     "metadata": {},
     "output_type": "execute_result"
    }
   ],
   "source": [
    "# Use Pandas to calcualte the summary statistics for the precipitation data\n",
    "df.describe()"
   ]
  },
  {
   "cell_type": "code",
   "execution_count": 13,
   "metadata": {},
   "outputs": [
    {
     "data": {
      "text/plain": [
       "[(9)]"
      ]
     },
     "execution_count": 13,
     "metadata": {},
     "output_type": "execute_result"
    }
   ],
   "source": [
    "# How many stations are available in this dataset?\n",
    "session.query(func.count(Station.station)).all()"
   ]
  },
  {
   "cell_type": "code",
   "execution_count": 14,
   "metadata": {},
   "outputs": [
    {
     "data": {
      "text/plain": [
       "[('USC00519281', 2772),\n",
       " ('USC00519397', 2724),\n",
       " ('USC00513117', 2709),\n",
       " ('USC00519523', 2669),\n",
       " ('USC00516128', 2612),\n",
       " ('USC00514830', 2202),\n",
       " ('USC00511918', 1979),\n",
       " ('USC00517948', 1372),\n",
       " ('USC00518838', 511)]"
      ]
     },
     "execution_count": 14,
     "metadata": {},
     "output_type": "execute_result"
    }
   ],
   "source": [
    "# What are the most active stations?\n",
    "# List the stations and the counts in descending order.\n",
    "session.query(Measurement.station, func.count(Measurement.station)).\\\n",
    "group_by(Measurement.station).order_by(func.count(Measurement.station).desc()).all()"
   ]
  },
  {
   "cell_type": "code",
   "execution_count": 15,
   "metadata": {},
   "outputs": [
    {
     "data": {
      "text/plain": [
       "[(54.0, 85.0, 71.66378066378067)]"
      ]
     },
     "execution_count": 15,
     "metadata": {},
     "output_type": "execute_result"
    }
   ],
   "source": [
    "# Using the station id from the previous query, calculate the lowest temperature recorded, \n",
    "# highest temperature recorded, and average temperature most active station?\n",
    "session.query(func.min(Measurement.tobs), func.max(Measurement.tobs), func.avg(Measurement.tobs)).\\\n",
    "    filter(Measurement.station == 'USC00519281').all()"
   ]
  },
  {
   "cell_type": "code",
   "execution_count": 16,
   "metadata": {},
   "outputs": [
    {
     "data": {
      "image/png": "[encoded data removed]",
      "text/plain": [
       "<Figure size 432x288 with 1 Axes>"
      ]
     },
     "metadata": {},
     "output_type": "display_data"
    }
   ],
   "source": [
    "# Choose the station with the highest number of temperature observations.\n",
    "# Query the last 12 months of temperature observation data for this station and plot the results as a histogram\n",
    "import datetime as dt\n",
    "from pandas.plotting import table\n",
    "prev_year = dt.date(2017, 8, 23) - dt.timedelta(days=365)\n",
    "\n",
    "results = session.query(Measurement.tobs).\\\n",
    "    filter(Measurement.station == 'USC00519281').\\\n",
    "    filter(Measurement.date >= prev_year).all()\n",
    "df = pd.DataFrame(results, columns=['tobs'])\n",
    "df.plot.hist(bins=12)\n",
    "plt.tight_layout()"
   ]
  },
  {
   "cell_type": "code",
   "execution_count": 17,
   "metadata": {},
   "outputs": [
    {
     "name": "stdout",
     "output_type": "stream",
     "text": [
      "[(62.0, 69.57142857142857, 74.0)]\n"
     ]
    }
   ],
   "source": [
    "# Write a function called `calc_temps` that will accept start date and end date in the format '%Y-%m-%d' \n",
    "# and return the minimum, average, and maximum temperatures for that range of dates\n",
    "def calc_temps(start_date, end_date):\n",
    "    \"\"\"TMIN, TAVG, and TMAX for a list of dates.\n",
    "    \n",
    "    Args:\n",
    "        start_date (string): A date string in the format %Y-%m-%d\n",
    "        end_date (string): A date string in the format %Y-%m-%d\n",
    "        \n",
    "    Returns:\n",
    "        TMIN, TAVE, and TMAX\n",
    "    \"\"\"\n",
    "    \n",
    "    return session.query(func.min(Measurement.tobs), func.avg(Measurement.tobs), func.max(Measurement.tobs)).\\\n",
    "        filter(Measurement.date >= start_date).filter(Measurement.date <= end_date).all()\n",
    "print(calc_temps('2012-02-28', '2012-03-05'))"
   ]
  },
  {
   "cell_type": "markdown",
   "metadata": {},
   "source": [
    "# Challenge"
   ]
  },
  {
   "cell_type": "code",
   "execution_count": null,
   "metadata": {},
   "outputs": [],
   "source": []
  }
 ],
 "metadata": {
  "kernelspec": {
   "display_name": "Python 3",
   "language": "python",
   "name": "python3"
  },
  "language_info": {
   "codemirror_mode": {
    "name": "ipython",
    "version": 3
   },
   "file_extension": ".py",
   "mimetype": "text/x-python",
   "name": "python",
   "nbconvert_exporter": "python",
   "pygments_lexer": "ipython3",
   "version": "3.7.9"
  }
 },
 "nbformat": 4,
 "nbformat_minor": 2
}
